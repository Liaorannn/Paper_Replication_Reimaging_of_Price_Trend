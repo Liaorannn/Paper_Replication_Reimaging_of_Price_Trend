{
 "cells": [
  {
   "cell_type": "code",
   "execution_count": 1,
   "metadata": {
    "collapsed": true,
    "pycharm": {
     "name": "#%%\n"
    }
   },
   "outputs": [],
   "source": [
    "import gc\n",
    "import os\n",
    "import re\n",
    "\n",
    "import numpy as np\n",
    "import pandas as pd\n",
    "import torch\n",
    "\n",
    "from __init__ import *\n",
    "from dataloader import *\n",
    "from model import *\n",
    "from utilis import *\n",
    "from inference import *\n",
    "import torchsummary"
   ]
  },
  {
   "cell_type": "markdown",
   "source": [
    "# Backtesting\n",
    "***\n",
    "1. 把5d的模型结果弄下来，跑列表数据\n",
    "2. 写分组的代码\n",
    "3. 更新report\n",
    "4. 有时间合并一下数据得到市值加权return"
   ],
   "metadata": {
    "collapsed": false,
    "pycharm": {
     "name": "#%% md\n"
    }
   }
  },
  {
   "cell_type": "code",
   "execution_count": 10,
   "outputs": [
    {
     "data": {
      "text/plain": "               Date  StockID    Ret_5d  label  label_pre  label_0_prob  \\\n0        2002-01-31    10001 -0.070266      0          0      0.122837   \n1        2002-02-28    10001 -0.018691      0          0      0.256071   \n2        2002-03-28    10001 -0.013327      0          1     -0.161311   \n3        2002-04-30    10001 -0.020201      0          0      0.288541   \n4        2002-05-31    10001 -0.034415      0          0      0.407260   \n...             ...      ...       ...    ...        ...           ...   \n1308289  2019-08-30    93436  0.027392      1          1     -0.178833   \n1308290  2019-09-30    93436 -0.013078      0          1     -0.202326   \n1308291  2019-10-31    93436  0.065478      1          1     -0.023954   \n1308292  2019-11-29    93436  0.018034      1          1     -0.191739   \n1308293  2019-12-31    93436  0.176440      1          1      0.030341   \n\n         label_1_prob     MarketCap  \n0           -0.324118  2.899580e+04  \n1            0.007112  2.748830e+04  \n2           -0.039841  2.673840e+04  \n3            0.069019  2.558145e+04  \n4           -0.211303  2.596067e+04  \n...               ...           ...  \n1308289      0.067946  4.041284e+07  \n1308290      0.102356  4.335660e+07  \n1308291      0.046154  5.676276e+07  \n1308292      0.146275  5.947004e+07  \n1308293      0.080869  7.571773e+07  \n\n[1308294 rows x 8 columns]",
      "text/html": "<div>\n<style scoped>\n    .dataframe tbody tr th:only-of-type {\n        vertical-align: middle;\n    }\n\n    .dataframe tbody tr th {\n        vertical-align: top;\n    }\n\n    .dataframe thead th {\n        text-align: right;\n    }\n</style>\n<table border=\"1\" class=\"dataframe\">\n  <thead>\n    <tr style=\"text-align: right;\">\n      <th></th>\n      <th>Date</th>\n      <th>StockID</th>\n      <th>Ret_5d</th>\n      <th>label</th>\n      <th>label_pre</th>\n      <th>label_0_prob</th>\n      <th>label_1_prob</th>\n      <th>MarketCap</th>\n    </tr>\n  </thead>\n  <tbody>\n    <tr>\n      <th>0</th>\n      <td>2002-01-31</td>\n      <td>10001</td>\n      <td>-0.070266</td>\n      <td>0</td>\n      <td>0</td>\n      <td>0.122837</td>\n      <td>-0.324118</td>\n      <td>2.899580e+04</td>\n    </tr>\n    <tr>\n      <th>1</th>\n      <td>2002-02-28</td>\n      <td>10001</td>\n      <td>-0.018691</td>\n      <td>0</td>\n      <td>0</td>\n      <td>0.256071</td>\n      <td>0.007112</td>\n      <td>2.748830e+04</td>\n    </tr>\n    <tr>\n      <th>2</th>\n      <td>2002-03-28</td>\n      <td>10001</td>\n      <td>-0.013327</td>\n      <td>0</td>\n      <td>1</td>\n      <td>-0.161311</td>\n      <td>-0.039841</td>\n      <td>2.673840e+04</td>\n    </tr>\n    <tr>\n      <th>3</th>\n      <td>2002-04-30</td>\n      <td>10001</td>\n      <td>-0.020201</td>\n      <td>0</td>\n      <td>0</td>\n      <td>0.288541</td>\n      <td>0.069019</td>\n      <td>2.558145e+04</td>\n    </tr>\n    <tr>\n      <th>4</th>\n      <td>2002-05-31</td>\n      <td>10001</td>\n      <td>-0.034415</td>\n      <td>0</td>\n      <td>0</td>\n      <td>0.407260</td>\n      <td>-0.211303</td>\n      <td>2.596067e+04</td>\n    </tr>\n    <tr>\n      <th>...</th>\n      <td>...</td>\n      <td>...</td>\n      <td>...</td>\n      <td>...</td>\n      <td>...</td>\n      <td>...</td>\n      <td>...</td>\n      <td>...</td>\n    </tr>\n    <tr>\n      <th>1308289</th>\n      <td>2019-08-30</td>\n      <td>93436</td>\n      <td>0.027392</td>\n      <td>1</td>\n      <td>1</td>\n      <td>-0.178833</td>\n      <td>0.067946</td>\n      <td>4.041284e+07</td>\n    </tr>\n    <tr>\n      <th>1308290</th>\n      <td>2019-09-30</td>\n      <td>93436</td>\n      <td>-0.013078</td>\n      <td>0</td>\n      <td>1</td>\n      <td>-0.202326</td>\n      <td>0.102356</td>\n      <td>4.335660e+07</td>\n    </tr>\n    <tr>\n      <th>1308291</th>\n      <td>2019-10-31</td>\n      <td>93436</td>\n      <td>0.065478</td>\n      <td>1</td>\n      <td>1</td>\n      <td>-0.023954</td>\n      <td>0.046154</td>\n      <td>5.676276e+07</td>\n    </tr>\n    <tr>\n      <th>1308292</th>\n      <td>2019-11-29</td>\n      <td>93436</td>\n      <td>0.018034</td>\n      <td>1</td>\n      <td>1</td>\n      <td>-0.191739</td>\n      <td>0.146275</td>\n      <td>5.947004e+07</td>\n    </tr>\n    <tr>\n      <th>1308293</th>\n      <td>2019-12-31</td>\n      <td>93436</td>\n      <td>0.176440</td>\n      <td>1</td>\n      <td>1</td>\n      <td>0.030341</td>\n      <td>0.080869</td>\n      <td>7.571773e+07</td>\n    </tr>\n  </tbody>\n</table>\n<p>1308294 rows × 8 columns</p>\n</div>"
     },
     "execution_count": 10,
     "metadata": {},
     "output_type": "execute_result"
    }
   ],
   "source": [
    "df_5D2C = pd.read_csv(r'result/CNN5D2C_results_new.csv', index_col=0)#.reset_index(drop=True)\n",
    "df_5D2C"
   ],
   "metadata": {
    "collapsed": false,
    "pycharm": {
     "name": "#%%\n"
    }
   }
  },
  {
   "cell_type": "code",
   "execution_count": 12,
   "outputs": [
    {
     "data": {
      "text/plain": "           Date  equal_ret    market_ret  long_ret  short_ret  long_short\n0    2002-01-31  -0.041687 -6.190000e-06 -0.031860  -0.043924    0.012064\n1    2002-02-28   0.046475  6.660000e-06  0.074265   0.022270    0.051995\n2    2002-03-28  -0.011813 -2.850000e-06 -0.000027  -0.022040    0.022013\n3    2002-04-30  -0.018408 -3.510000e-06 -0.019699  -0.027626    0.007927\n4    2002-05-31  -0.035311 -5.070000e-06 -0.033270  -0.045449    0.012179\n..          ...        ...           ...       ...        ...         ...\n211  2019-08-30   0.022468  2.950000e-06  0.030938   0.012811    0.018127\n212  2019-09-30  -0.017545 -2.190000e-06 -0.012704  -0.026435    0.013731\n213  2019-10-31   0.016719  2.880000e-06  0.028424  -0.000979    0.029403\n214  2019-11-29   0.003574  2.300000e-07  0.003805  -0.007119    0.010924\n215  2019-12-31   0.008235  1.290000e-06  0.017571   0.004117    0.013454\n\n[216 rows x 6 columns]",
      "text/html": "<div>\n<style scoped>\n    .dataframe tbody tr th:only-of-type {\n        vertical-align: middle;\n    }\n\n    .dataframe tbody tr th {\n        vertical-align: top;\n    }\n\n    .dataframe thead th {\n        text-align: right;\n    }\n</style>\n<table border=\"1\" class=\"dataframe\">\n  <thead>\n    <tr style=\"text-align: right;\">\n      <th></th>\n      <th>Date</th>\n      <th>equal_ret</th>\n      <th>market_ret</th>\n      <th>long_ret</th>\n      <th>short_ret</th>\n      <th>long_short</th>\n    </tr>\n  </thead>\n  <tbody>\n    <tr>\n      <th>0</th>\n      <td>2002-01-31</td>\n      <td>-0.041687</td>\n      <td>-6.190000e-06</td>\n      <td>-0.031860</td>\n      <td>-0.043924</td>\n      <td>0.012064</td>\n    </tr>\n    <tr>\n      <th>1</th>\n      <td>2002-02-28</td>\n      <td>0.046475</td>\n      <td>6.660000e-06</td>\n      <td>0.074265</td>\n      <td>0.022270</td>\n      <td>0.051995</td>\n    </tr>\n    <tr>\n      <th>2</th>\n      <td>2002-03-28</td>\n      <td>-0.011813</td>\n      <td>-2.850000e-06</td>\n      <td>-0.000027</td>\n      <td>-0.022040</td>\n      <td>0.022013</td>\n    </tr>\n    <tr>\n      <th>3</th>\n      <td>2002-04-30</td>\n      <td>-0.018408</td>\n      <td>-3.510000e-06</td>\n      <td>-0.019699</td>\n      <td>-0.027626</td>\n      <td>0.007927</td>\n    </tr>\n    <tr>\n      <th>4</th>\n      <td>2002-05-31</td>\n      <td>-0.035311</td>\n      <td>-5.070000e-06</td>\n      <td>-0.033270</td>\n      <td>-0.045449</td>\n      <td>0.012179</td>\n    </tr>\n    <tr>\n      <th>...</th>\n      <td>...</td>\n      <td>...</td>\n      <td>...</td>\n      <td>...</td>\n      <td>...</td>\n      <td>...</td>\n    </tr>\n    <tr>\n      <th>211</th>\n      <td>2019-08-30</td>\n      <td>0.022468</td>\n      <td>2.950000e-06</td>\n      <td>0.030938</td>\n      <td>0.012811</td>\n      <td>0.018127</td>\n    </tr>\n    <tr>\n      <th>212</th>\n      <td>2019-09-30</td>\n      <td>-0.017545</td>\n      <td>-2.190000e-06</td>\n      <td>-0.012704</td>\n      <td>-0.026435</td>\n      <td>0.013731</td>\n    </tr>\n    <tr>\n      <th>213</th>\n      <td>2019-10-31</td>\n      <td>0.016719</td>\n      <td>2.880000e-06</td>\n      <td>0.028424</td>\n      <td>-0.000979</td>\n      <td>0.029403</td>\n    </tr>\n    <tr>\n      <th>214</th>\n      <td>2019-11-29</td>\n      <td>0.003574</td>\n      <td>2.300000e-07</td>\n      <td>0.003805</td>\n      <td>-0.007119</td>\n      <td>0.010924</td>\n    </tr>\n    <tr>\n      <th>215</th>\n      <td>2019-12-31</td>\n      <td>0.008235</td>\n      <td>1.290000e-06</td>\n      <td>0.017571</td>\n      <td>0.004117</td>\n      <td>0.013454</td>\n    </tr>\n  </tbody>\n</table>\n<p>216 rows × 6 columns</p>\n</div>"
     },
     "execution_count": 12,
     "metadata": {},
     "output_type": "execute_result"
    }
   ],
   "source": [
    "def back_testing(df: pd.DataFrame, label_='Ret_20d'):\n",
    "    df_res = pd.DataFrame()\n",
    "    for date_g, df_g in df.groupby('Date'):\n",
    "        df_g = df_g.dropna()\n",
    "        equal_ret = np.mean(df_g[label_]).round(6)\n",
    "        market_ret = np.mean((df_g[label_] * df_g['MarketCap']) / sum(df_g['MarketCap'])).round(8)\n",
    "        long_ret = np.mean(df_g[df_g['label_1_prob'] > df_g['label_1_prob'].quantile(0.9)][label_]).round(6)\n",
    "        short_ret = np.mean(df_g[df_g['label_0_prob'] > df_g['label_0_prob'].quantile(0.9)][label_]).round(6)\n",
    "        long_short = round(long_ret - short_ret, 6)\n",
    "\n",
    "        df_res.loc[len(df_res), ['Date', 'equal_ret', 'market_ret', 'long_ret', 'short_ret', 'long_short']] = (date_g,\n",
    "                                                                                                               equal_ret,\n",
    "                                                                                                               market_ret,\n",
    "                                                                                                               long_ret,\n",
    "                                                                                                               short_ret,\n",
    "                                                                                                               long_short)\n",
    "    return df_res.sort_values(by=['Date'], ascending=True)\n",
    "\n",
    "CNN5D2C_backtest = back_testing(df_5D2C, label_='Ret_5d')\n",
    "CNN5D2C_backtest"
   ],
   "metadata": {
    "collapsed": false,
    "pycharm": {
     "name": "#%%\n"
    }
   }
  },
  {
   "cell_type": "code",
   "execution_count": 13,
   "outputs": [],
   "source": [
    "CNN5D2C_backtest.to_csv('CNN5D2C_backtesting.csv')"
   ],
   "metadata": {
    "collapsed": false,
    "pycharm": {
     "name": "#%%\n"
    }
   }
  },
  {
   "cell_type": "code",
   "execution_count": 37,
   "outputs": [
    {
     "data": {
      "text/plain": "           Date  equal_ret    market_ret  long_ret  short_ret  long_short\n0    2002-01-31  -0.041687 -6.190000e-06 -0.031860  -0.043924    0.012064\n1    2002-02-28   0.046475  6.660000e-06  0.074265   0.022270    0.051995\n2    2002-03-28  -0.011813 -2.850000e-06 -0.000027  -0.022040    0.022013\n3    2002-04-30  -0.018408 -3.510000e-06 -0.019699  -0.027626    0.007927\n4    2002-05-31  -0.035311 -5.070000e-06 -0.033270  -0.045449    0.012179\n..          ...        ...           ...       ...        ...         ...\n211  2019-08-30   0.022468  2.950000e-06  0.030938   0.012811    0.018127\n212  2019-09-30  -0.017545 -2.190000e-06 -0.012704  -0.026435    0.013731\n213  2019-10-31   0.016719  2.880000e-06  0.028424  -0.000979    0.029403\n214  2019-11-29   0.003574  2.300000e-07  0.003805  -0.007119    0.010924\n215  2019-12-31   0.008235  1.290000e-06  0.017571   0.004117    0.013454\n\n[216 rows x 6 columns]",
      "text/html": "<div>\n<style scoped>\n    .dataframe tbody tr th:only-of-type {\n        vertical-align: middle;\n    }\n\n    .dataframe tbody tr th {\n        vertical-align: top;\n    }\n\n    .dataframe thead th {\n        text-align: right;\n    }\n</style>\n<table border=\"1\" class=\"dataframe\">\n  <thead>\n    <tr style=\"text-align: right;\">\n      <th></th>\n      <th>Date</th>\n      <th>equal_ret</th>\n      <th>market_ret</th>\n      <th>long_ret</th>\n      <th>short_ret</th>\n      <th>long_short</th>\n    </tr>\n  </thead>\n  <tbody>\n    <tr>\n      <th>0</th>\n      <td>2002-01-31</td>\n      <td>-0.041687</td>\n      <td>-6.190000e-06</td>\n      <td>-0.031860</td>\n      <td>-0.043924</td>\n      <td>0.012064</td>\n    </tr>\n    <tr>\n      <th>1</th>\n      <td>2002-02-28</td>\n      <td>0.046475</td>\n      <td>6.660000e-06</td>\n      <td>0.074265</td>\n      <td>0.022270</td>\n      <td>0.051995</td>\n    </tr>\n    <tr>\n      <th>2</th>\n      <td>2002-03-28</td>\n      <td>-0.011813</td>\n      <td>-2.850000e-06</td>\n      <td>-0.000027</td>\n      <td>-0.022040</td>\n      <td>0.022013</td>\n    </tr>\n    <tr>\n      <th>3</th>\n      <td>2002-04-30</td>\n      <td>-0.018408</td>\n      <td>-3.510000e-06</td>\n      <td>-0.019699</td>\n      <td>-0.027626</td>\n      <td>0.007927</td>\n    </tr>\n    <tr>\n      <th>4</th>\n      <td>2002-05-31</td>\n      <td>-0.035311</td>\n      <td>-5.070000e-06</td>\n      <td>-0.033270</td>\n      <td>-0.045449</td>\n      <td>0.012179</td>\n    </tr>\n    <tr>\n      <th>...</th>\n      <td>...</td>\n      <td>...</td>\n      <td>...</td>\n      <td>...</td>\n      <td>...</td>\n      <td>...</td>\n    </tr>\n    <tr>\n      <th>211</th>\n      <td>2019-08-30</td>\n      <td>0.022468</td>\n      <td>2.950000e-06</td>\n      <td>0.030938</td>\n      <td>0.012811</td>\n      <td>0.018127</td>\n    </tr>\n    <tr>\n      <th>212</th>\n      <td>2019-09-30</td>\n      <td>-0.017545</td>\n      <td>-2.190000e-06</td>\n      <td>-0.012704</td>\n      <td>-0.026435</td>\n      <td>0.013731</td>\n    </tr>\n    <tr>\n      <th>213</th>\n      <td>2019-10-31</td>\n      <td>0.016719</td>\n      <td>2.880000e-06</td>\n      <td>0.028424</td>\n      <td>-0.000979</td>\n      <td>0.029403</td>\n    </tr>\n    <tr>\n      <th>214</th>\n      <td>2019-11-29</td>\n      <td>0.003574</td>\n      <td>2.300000e-07</td>\n      <td>0.003805</td>\n      <td>-0.007119</td>\n      <td>0.010924</td>\n    </tr>\n    <tr>\n      <th>215</th>\n      <td>2019-12-31</td>\n      <td>0.008235</td>\n      <td>1.290000e-06</td>\n      <td>0.017571</td>\n      <td>0.004117</td>\n      <td>0.013454</td>\n    </tr>\n  </tbody>\n</table>\n<p>216 rows × 6 columns</p>\n</div>"
     },
     "execution_count": 37,
     "metadata": {},
     "output_type": "execute_result"
    }
   ],
   "source": [
    "df_5d2c = pd.read_csv('CNN5D2C_backtesting.csv', index_col=0)\n",
    "df_5d2c"
   ],
   "metadata": {
    "collapsed": false,
    "pycharm": {
     "name": "#%%\n"
    }
   }
  },
  {
   "cell_type": "code",
   "execution_count": 38,
   "outputs": [
    {
     "data": {
      "text/plain": "<Figure size 960x720 with 1 Axes>",
      "image/png": "[encoded data removed]"
     },
     "metadata": {},
     "output_type": "display_data"
    }
   ],
   "source": [
    "import matplotlib.pyplot as plt\n",
    "import matplotlib.dates as mdates\n",
    "\n",
    "def back_test_plot(df):\n",
    "    df['Date'] = pd.to_datetime(df['Date'])\n",
    "    fig, ax = plt.subplots(dpi=150)\n",
    "    # plt.figure(dpi=150)\n",
    "    # ax.xaxis.set_major_formatter(mdates.DateFormatter('%Y-%m-%d'))\n",
    "\n",
    "    # 设置x轴刻度间隔为5天\n",
    "    # ax.xaxis.set_major_locator(mdates.DayLocator(interval=5))\n",
    "    for col in ['equal_ret', 'long_ret', 'short_ret', 'long_short']:\n",
    "        y = (1 + df[col]).cumprod()\n",
    "        plt.plot(df['Date'], y, label=col)\n",
    "    ax.axhline(y=1, color = 'gray', linestyle='--')\n",
    "    plt.legend(loc='best')\n",
    "    plt.xlabel('Date')\n",
    "    plt.ylabel('Cumulative Return')\n",
    "    # plt.title('CNN20D2C Model Performance')\n",
    "    plt.show()\n",
    "\n",
    "back_test_plot(df_5d2c)"
   ],
   "metadata": {
    "collapsed": false,
    "pycharm": {
     "name": "#%%\n"
    }
   }
  },
  {
   "cell_type": "code",
   "execution_count": null,
   "outputs": [],
   "source": [],
   "metadata": {
    "collapsed": false,
    "pycharm": {
     "name": "#%%\n"
    }
   }
  },
  {
   "cell_type": "markdown",
   "source": [
    "# Test Result\n",
    "***\n",
    "**calculate**:\n",
    "    - Test loss\n",
    "    - Test acc\n",
    "    - Test f1 score\n",
    "    - True positive\n",
    "    - False negative\n",
    "    - 2002-2005acc,\n",
    "    - 2005-2011acc,\n",
    "    - 2012-2019acc\n"
   ],
   "metadata": {
    "collapsed": false,
    "pycharm": {
     "name": "#%% md\n"
    }
   }
  },
  {
   "cell_type": "code",
   "execution_count": 39,
   "outputs": [],
   "source": [
    "def test_result(df):\n",
    "    # loss 自己算\n",
    "    acc = accuracy_score(df['label'], df['label_pre']).__round__(4)\n",
    "    t_num = len(df[df['label'] == 1])\n",
    "    t_p_num = len(df[(df['label'] == 1) & (df['label_pre'] == 1)])\n",
    "    t_p_r = (t_p_num / t_num).__round__(4)\n",
    "\n",
    "    f_num = len(df[df['label'] == 0])\n",
    "    t_n_num = len(df[(df['label'] == 0) & (df['label_pre'] == 0)])\n",
    "    t_n_r = (t_n_num / f_num).__round__(4)\n",
    "\n",
    "\n",
    "    acc_tn = accuracy_score(df[df['label'] == 0]['label'], df[df['label']==0]['label_pre']).__round__(4)\n",
    "\n",
    "    f1 = f1_score(df['label'], df['label_pre'], average='macro').__round__(4)\n",
    "\n",
    "    t_acc = []\n",
    "    df['Date'] = pd.to_datetime(df['Date'])\n",
    "    for t_r in [pd.date_range('2002-01-01', '2006-01-01'), pd.date_range('2006-01-01', '2012-01-01'), pd.date_range('2012-01-01', '2020-01-01')]:\n",
    "        df_t = df[df['Date'].isin(t_r)]\n",
    "        t_acc.append(accuracy_score(df_t['label'], df_t['label_pre']).__round__(4))\n",
    "\n",
    "    df_res = pd.DataFrame()\n",
    "    df_res.loc[0, 'acc'] = acc\n",
    "    df_res.loc[0, 'acc_tp'] = f'{t_p_r} ({t_p_num}/{t_num})'\n",
    "    df_res.loc[0, 'acc_tn'] = f'{t_n_r} ({t_n_num}/{f_num})'\n",
    "    df_res.loc[0, 'f1_score'] = f1\n",
    "    df_res.loc[0, ['acc(02-05)', 'acc(06-11)', 'acc(12-19)']] = t_acc\n",
    "\n",
    "    return df_res\n",
    "\n"
   ],
   "metadata": {
    "collapsed": false,
    "pycharm": {
     "name": "#%%\n"
    }
   }
  },
  {
   "cell_type": "code",
   "execution_count": 42,
   "outputs": [
    {
     "data": {
      "text/plain": "               acc                  acc_tp                  acc_tn  f1_score  \\\nCNN20D2C 0  0.5274  0.5305 (362083/682552)   0.524 (325009/620300)    0.5270   \nCNN20D3C 0  0.5215     0.5 (341275/682552)  0.5526 (342784/620300)    0.3569   \nCNN5D2C  0  0.5339   0.673 (447003/664242)  0.3905 (251472/644052)    0.5232   \n\n            acc(02-05)  acc(06-11)  acc(12-19)  \nCNN20D2C 0      0.5237      0.5435      0.5163  \nCNN20D3C 0      0.5159      0.5383      0.5110  \nCNN5D2C  0      0.5438      0.5346      0.5273  ",
      "text/html": "<div>\n<style scoped>\n    .dataframe tbody tr th:only-of-type {\n        vertical-align: middle;\n    }\n\n    .dataframe tbody tr th {\n        vertical-align: top;\n    }\n\n    .dataframe thead th {\n        text-align: right;\n    }\n</style>\n<table border=\"1\" class=\"dataframe\">\n  <thead>\n    <tr style=\"text-align: right;\">\n      <th></th>\n      <th></th>\n      <th>acc</th>\n      <th>acc_tp</th>\n      <th>acc_tn</th>\n      <th>f1_score</th>\n      <th>acc(02-05)</th>\n      <th>acc(06-11)</th>\n      <th>acc(12-19)</th>\n    </tr>\n  </thead>\n  <tbody>\n    <tr>\n      <th>CNN20D2C</th>\n      <th>0</th>\n      <td>0.5274</td>\n      <td>0.5305 (362083/682552)</td>\n      <td>0.524 (325009/620300)</td>\n      <td>0.5270</td>\n      <td>0.5237</td>\n      <td>0.5435</td>\n      <td>0.5163</td>\n    </tr>\n    <tr>\n      <th>CNN20D3C</th>\n      <th>0</th>\n      <td>0.5215</td>\n      <td>0.5 (341275/682552)</td>\n      <td>0.5526 (342784/620300)</td>\n      <td>0.3569</td>\n      <td>0.5159</td>\n      <td>0.5383</td>\n      <td>0.5110</td>\n    </tr>\n    <tr>\n      <th>CNN5D2C</th>\n      <th>0</th>\n      <td>0.5339</td>\n      <td>0.673 (447003/664242)</td>\n      <td>0.3905 (251472/644052)</td>\n      <td>0.5232</td>\n      <td>0.5438</td>\n      <td>0.5346</td>\n      <td>0.5273</td>\n    </tr>\n  </tbody>\n</table>\n</div>"
     },
     "execution_count": 42,
     "metadata": {},
     "output_type": "execute_result"
    }
   ],
   "source": [
    "df_l = {}\n",
    "for res_f in os.listdir(r'./result'):\n",
    "    df_model = pd.read_csv(os.path.join(r'./result', res_f), index_col=0)\n",
    "    df_l[f'{res_f[:-16]}'] = test_result(df_model)\n",
    "    del df_model\n",
    "    gc.collect()\n",
    "df_test_res = pd.concat(df_l.values(), keys=df_l.keys())\n",
    "df_test_res"
   ],
   "metadata": {
    "collapsed": false,
    "pycharm": {
     "name": "#%%\n"
    }
   }
  },
  {
   "cell_type": "code",
   "execution_count": 43,
   "outputs": [],
   "source": [
    "df_test_res.to_csv('all_model_test_results.csv')"
   ],
   "metadata": {
    "collapsed": false,
    "pycharm": {
     "name": "#%%\n"
    }
   }
  },
  {
   "cell_type": "code",
   "execution_count": null,
   "outputs": [],
   "source": [],
   "metadata": {
    "collapsed": false,
    "pycharm": {
     "name": "#%%\n"
    }
   }
  },
  {
   "cell_type": "code",
   "execution_count": null,
   "outputs": [],
   "source": [],
   "metadata": {
    "collapsed": false,
    "pycharm": {
     "name": "#%%\n"
    }
   }
  },
  {
   "cell_type": "code",
   "execution_count": null,
   "outputs": [],
   "source": [],
   "metadata": {
    "collapsed": false,
    "pycharm": {
     "name": "#%%\n"
    }
   }
  },
  {
   "cell_type": "markdown",
   "source": [
    "# Checking\n",
    "***"
   ],
   "metadata": {
    "collapsed": false,
    "pycharm": {
     "name": "#%% md\n"
    }
   }
  },
  {
   "cell_type": "code",
   "execution_count": 3,
   "outputs": [
    {
     "name": "stdout",
     "output_type": "stream",
     "text": [
      "CNN20DModel(\n",
      "  (block1): Sequential(\n",
      "    (0): Conv2d(1, 64, kernel_size=(5, 3), stride=(3, 1), padding=(3, 1), dilation=(2, 1))\n",
      "    (1): BatchNorm2d(64, eps=1e-05, momentum=0.1, affine=True, track_running_stats=True)\n",
      "    (2): LeakyReLU(negative_slope=0.01, inplace=True)\n",
      "    (3): MaxPool2d(kernel_size=(2, 1), stride=(2, 1), padding=0, dilation=1, ceil_mode=False)\n",
      "  )\n",
      "  (block2): Sequential(\n",
      "    (0): Conv2d(64, 128, kernel_size=(5, 3), stride=(1, 1), padding=(2, 1))\n",
      "    (1): BatchNorm2d(128, eps=1e-05, momentum=0.1, affine=True, track_running_stats=True)\n",
      "    (2): LeakyReLU(negative_slope=0.01, inplace=True)\n",
      "    (3): MaxPool2d(kernel_size=(2, 1), stride=(2, 1), padding=0, dilation=1, ceil_mode=False)\n",
      "  )\n",
      "  (block3): Sequential(\n",
      "    (0): Conv2d(128, 256, kernel_size=(5, 3), stride=(1, 1), padding=(3, 1))\n",
      "    (1): BatchNorm2d(256, eps=1e-05, momentum=0.1, affine=True, track_running_stats=True)\n",
      "    (2): LeakyReLU(negative_slope=0.01, inplace=True)\n",
      "    (3): MaxPool2d(kernel_size=(2, 1), stride=(2, 1), padding=0, dilation=1, ceil_mode=False)\n",
      "    (4): Flatten(start_dim=1, end_dim=-1)\n",
      "    (5): Dropout(p=0.5, inplace=False)\n",
      "  )\n",
      "  (fc): Linear(in_features=46080, out_features=2, bias=True)\n",
      "  (model): Sequential(\n",
      "    (0): Sequential(\n",
      "      (0): Conv2d(1, 64, kernel_size=(5, 3), stride=(3, 1), padding=(3, 1), dilation=(2, 1))\n",
      "      (1): BatchNorm2d(64, eps=1e-05, momentum=0.1, affine=True, track_running_stats=True)\n",
      "      (2): LeakyReLU(negative_slope=0.01, inplace=True)\n",
      "      (3): MaxPool2d(kernel_size=(2, 1), stride=(2, 1), padding=0, dilation=1, ceil_mode=False)\n",
      "    )\n",
      "    (1): Sequential(\n",
      "      (0): Conv2d(64, 128, kernel_size=(5, 3), stride=(1, 1), padding=(2, 1))\n",
      "      (1): BatchNorm2d(128, eps=1e-05, momentum=0.1, affine=True, track_running_stats=True)\n",
      "      (2): LeakyReLU(negative_slope=0.01, inplace=True)\n",
      "      (3): MaxPool2d(kernel_size=(2, 1), stride=(2, 1), padding=0, dilation=1, ceil_mode=False)\n",
      "    )\n",
      "    (2): Sequential(\n",
      "      (0): Conv2d(128, 256, kernel_size=(5, 3), stride=(1, 1), padding=(3, 1))\n",
      "      (1): BatchNorm2d(256, eps=1e-05, momentum=0.1, affine=True, track_running_stats=True)\n",
      "      (2): LeakyReLU(negative_slope=0.01, inplace=True)\n",
      "      (3): MaxPool2d(kernel_size=(2, 1), stride=(2, 1), padding=0, dilation=1, ceil_mode=False)\n",
      "      (4): Flatten(start_dim=1, end_dim=-1)\n",
      "      (5): Dropout(p=0.5, inplace=False)\n",
      "    )\n",
      "    (3): Linear(in_features=46080, out_features=2, bias=True)\n",
      "  )\n",
      ")\n"
     ]
    }
   ],
   "source": [
    "model = CNN20DModel(2)\n",
    "print(model)"
   ],
   "metadata": {
    "collapsed": false,
    "pycharm": {
     "name": "#%%\n"
    }
   }
  },
  {
   "cell_type": "code",
   "execution_count": 7,
   "outputs": [
    {
     "name": "stdout",
     "output_type": "stream",
     "text": [
      "----------------------------------------------------------------\n",
      "        Layer (type)               Output Shape         Param #\n",
      "================================================================\n",
      "            Conv2d-1           [-1, 64, 21, 60]           1,024\n",
      "            Conv2d-2           [-1, 64, 21, 60]           1,024\n",
      "       BatchNorm2d-3           [-1, 64, 21, 60]             128\n",
      "       BatchNorm2d-4           [-1, 64, 21, 60]             128\n",
      "         LeakyReLU-5           [-1, 64, 21, 60]               0\n",
      "         LeakyReLU-6           [-1, 64, 21, 60]               0\n",
      "         MaxPool2d-7           [-1, 64, 10, 60]               0\n",
      "         MaxPool2d-8           [-1, 64, 10, 60]               0\n",
      "            Conv2d-9          [-1, 128, 10, 60]         123,008\n",
      "           Conv2d-10          [-1, 128, 10, 60]         123,008\n",
      "      BatchNorm2d-11          [-1, 128, 10, 60]             256\n",
      "      BatchNorm2d-12          [-1, 128, 10, 60]             256\n",
      "        LeakyReLU-13          [-1, 128, 10, 60]               0\n",
      "        LeakyReLU-14          [-1, 128, 10, 60]               0\n",
      "        MaxPool2d-15           [-1, 128, 5, 60]               0\n",
      "        MaxPool2d-16           [-1, 128, 5, 60]               0\n",
      "           Conv2d-17           [-1, 256, 7, 60]         491,776\n",
      "           Conv2d-18           [-1, 256, 7, 60]         491,776\n",
      "      BatchNorm2d-19           [-1, 256, 7, 60]             512\n",
      "      BatchNorm2d-20           [-1, 256, 7, 60]             512\n",
      "        LeakyReLU-21           [-1, 256, 7, 60]               0\n",
      "        LeakyReLU-22           [-1, 256, 7, 60]               0\n",
      "        MaxPool2d-23           [-1, 256, 3, 60]               0\n",
      "        MaxPool2d-24           [-1, 256, 3, 60]               0\n",
      "          Flatten-25                [-1, 46080]               0\n",
      "          Flatten-26                [-1, 46080]               0\n",
      "          Dropout-27                [-1, 46080]               0\n",
      "          Dropout-28                [-1, 46080]               0\n",
      "           Linear-29                    [-1, 2]          92,162\n",
      "           Linear-30                    [-1, 2]          92,162\n",
      "================================================================\n",
      "Total params: 1,417,732\n",
      "Trainable params: 1,417,732\n",
      "Non-trainable params: 0\n",
      "----------------------------------------------------------------\n",
      "Input size (MB): 0.01\n",
      "Forward/backward pass size (MB): 15.41\n",
      "Params size (MB): 5.41\n",
      "Estimated Total Size (MB): 20.83\n",
      "----------------------------------------------------------------\n"
     ]
    }
   ],
   "source": [
    "torchsummary.summary(model.to(torch.device('cuda')), (1, 64, 60))"
   ],
   "metadata": {
    "collapsed": false,
    "pycharm": {
     "name": "#%%\n"
    }
   }
  },
  {
   "cell_type": "code",
   "execution_count": null,
   "outputs": [],
   "source": [],
   "metadata": {
    "collapsed": false,
    "pycharm": {
     "name": "#%%\n"
    }
   }
  },
  {
   "cell_type": "code",
   "execution_count": null,
   "outputs": [],
   "source": [],
   "metadata": {
    "collapsed": false,
    "pycharm": {
     "name": "#%%\n"
    }
   }
  },
  {
   "cell_type": "markdown",
   "source": [
    "# Configs setting\n",
    "***"
   ],
   "metadata": {
    "collapsed": false,
    "pycharm": {
     "name": "#%% md\n"
    }
   }
  },
  {
   "cell_type": "code",
   "execution_count": 2,
   "outputs": [],
   "source": [
    "settings_20d2c = {'DATA': {'IMG_FILE': r'/kaggle/input/dataset-of-reimaging-price-trend',\n",
    "                     'IMAGE_WIDTH': {5: 15, 20: 60, 60: 180},\n",
    "                     'IMAGE_HEIGHT': {5: 32, 20: 64, 60: 96},\n",
    "                     'COLUMNS': ['Date', 'StockID', 'Ret_20d', 'label'],  #\n",
    "                     'TARGET': 'Ret_20d',  # predicting target\n",
    "                     'TRAIN_YEAR': [1993, 1994, 1995, 1996, 1997, 1998, 1999, 2000, 2001]\n",
    "                           },\n",
    "                'PATH': {'LOGGER': r'./log',  # save logger info\n",
    "                         'MODEL': r'./model',  # save model parameters & train/valid loss\n",
    "                         'RESULT': r'./result',  # save testing/backtest result\n",
    "                         },\n",
    "                'TRAIN': {'SEED': 1023,\n",
    "                          'MODEL_NAME': 'CNN20D2C',\n",
    "                          'LR': 1e-5,\n",
    "                          'KFOLD': 3,\n",
    "                          'EPOCHS': 13,\n",
    "                          'BATCH_SIZE': 128,\n",
    "                          'NUM_WORKERS': 0,\n",
    "                          'WEIGHT_DECAY': 1e-3,\n",
    "                          'OUT_FEATURES': 2  # output classification num\n",
    "                          },\n",
    "                'INFERENCE': {'TEST_YEAR': [2002, 2003, 2004, 2005, 2006, 2007, 2008, 2009, 2010, 2011, 2012, 2013, 2014, 2015, 2016, 2017, 2018, 2019],\n",
    "                              'BACK_TEST_YEAR': None\n",
    "                              }}\n",
    "\n",
    "settings_20d3c = {'DATA': {'IMG_FILE': r'/kaggle/input/dataset-of-reimaging-price-trend',\n",
    "                           # 'IMG_FILE': r'.\\\\img_data\\\\monthly_20d',\n",
    "                           'IMAGE_WIDTH': {5: 15, 20: 60, 60: 180},\n",
    "                           'IMAGE_HEIGHT': {5: 32, 20: 64, 60: 96},\n",
    "                           'COLUMNS': ['Date', 'StockID', 'Ret_20d', 'label'],  #\n",
    "                           'TARGET': 'Ret_20d',  # predicting target\n",
    "                           'TRAIN_YEAR': [1993, 1994, 1995, 1996, 1997, 1998, 1999, 2000, 2001],\n",
    "                           'TEST_YEAR': [2002, 2003, 2004, 2005, 2006, 2007, 2008, 2009, 2010, 2011, 2012, 2013, 2014, 2015, 2016, 2017, 2018, 2019]\n",
    "                           },\n",
    "                'PATH': {'LOGGER': r'./log',  # save logger info\n",
    "                         'MODEL': r'/kaggle/input/model-price-in-trend/model',  # save model parameters & train/valid loss\n",
    "                         'MODEL_LOADING': r'/kaggle/input/model-price-in-trend/model',  # loading path\n",
    "                         'RESULT': r'./result',  # save testing/backtest result\n",
    "                         },\n",
    "                'TRAIN': {'SEED': 1023,\n",
    "                          'MODEL_NAME': 'CNN20D3C',\n",
    "                          'LR': 1e-5,\n",
    "                          'KFOLD': 3,\n",
    "                          'EPOCHS': 13,\n",
    "                          'BATCH_SIZE': 128,\n",
    "                          'NUM_WORKERS': 4,\n",
    "                          'WEIGHT_DECAY': 1e-3,\n",
    "                          'OUT_FEATURES': 3  # output classification num\n",
    "                          },\n",
    "                'INFERENCE': {'BACK_TEST_YEAR': None\n",
    "                              }}\n",
    "\n",
    "settings_5d2c = {'DATA': {'IMG_FILE': r'/kaggle/input/dataset-of-reimaging-price-trend',\n",
    "                          'IMAGE_WIDTH': {5: 15, 20: 60, 60: 180},\n",
    "                          'IMAGE_HEIGHT': {5: 32, 20: 64, 60: 96},\n",
    "                          'COLUMNS': ['Date', 'StockID', 'Ret_5d', 'label'],  #\n",
    "                          'TARGET': 'Ret_5d',  # predicting target\n",
    "                          'TRAIN_YEAR': [1993, 1994, 1995, 1996, 1997, 1998, 1999, 2000, 2001],\n",
    "                          'TEST_YEAR': [2002, 2003, 2004, 2005, 2006, 2007, 2008, 2009, 2010, 2011, 2012, 2013, 2014, 2015, 2016, 2017, 2018, 2019]\n",
    "                           },\n",
    "                'PATH': {'LOGGER': r'./log',  # save logger info\n",
    "                         'MODEL': r'./model',  # save model parameters & train/valid loss\n",
    "                         'RESULT': r'./result',  # save testing/backtest result\n",
    "                         },\n",
    "                'TRAIN': {'SEED': 1023,\n",
    "                          'MODEL_NAME': 'CNN5D2C',\n",
    "                          'LR': 1e-5,\n",
    "                          'KFOLD': 3,\n",
    "                          'EPOCHS': 13,\n",
    "                          'BATCH_SIZE': 128,\n",
    "                          'NUM_WORKERS': 4,\n",
    "                          'WEIGHT_DECAY': 1e-3,\n",
    "                          'OUT_FEATURES': 2  # output classification num\n",
    "                          },\n",
    "                'INFERENCE': {'TEST_YEAR': [2002, 2003, 2004, 2005, 2006, 2007, 2008, 2009, 2010, 2011, 2012, 2013, 2014, 2015, 2016, 2017, 2018, 2019],\n",
    "                              'BACK_TEST_YEAR': None\n",
    "                              }}"
   ],
   "metadata": {
    "collapsed": false,
    "pycharm": {
     "name": "#%%\n"
    }
   }
  },
  {
   "cell_type": "code",
   "execution_count": 3,
   "outputs": [],
   "source": [
    "with open('./configs/CNN20D2C.yaml', 'w', encoding='utf-8') as f:\n",
    "    data = yaml.dump(settings_20d2c, f)\n",
    "\n",
    "with open('./configs/CNN20D3C.yaml', 'w', encoding='utf-8') as f:\n",
    "    data = yaml.dump(settings_20d3c, f)\n",
    "\n",
    "with open('./configs/CNN5D2C.yaml', 'w', encoding='utf-8') as f:\n",
    "    data = yaml.dump(settings_5d2c, f)"
   ],
   "metadata": {
    "collapsed": false,
    "pycharm": {
     "name": "#%%\n"
    }
   }
  },
  {
   "cell_type": "code",
   "execution_count": 3,
   "outputs": [],
   "source": [
    "# settings = yaml.load(open('20D3C.yaml', 'r'), Loader=yaml.FullLoader)\n",
    "# settings"
   ],
   "metadata": {
    "collapsed": false,
    "pycharm": {
     "name": "#%%\n"
    }
   }
  },
  {
   "cell_type": "code",
   "execution_count": null,
   "outputs": [],
   "source": [
    "# image_test, label_test = get_data(settings_20d2c['INFERENCE']['TEST_YEAR'],\n",
    "#                                   settings_20d2c['DATA']['TARGET'],\n",
    "#                                   settings_20d2c['DATA']['IMG_FILE'],\n",
    "#                                   settings_20d2c['DATA']['IMAGE_HEIGHT'],\n",
    "#                                   settings_20d2c['DATA']['IMAGE_WIDTH'],\n",
    "#                                   settings_20d2c['DATA']['COLUMNS'])\n",
    "# image_test.shape"
   ],
   "metadata": {
    "collapsed": false,
    "pycharm": {
     "name": "#%%\n"
    }
   }
  },
  {
   "cell_type": "markdown",
   "source": [
    "# Inference\n",
    "***"
   ],
   "metadata": {
    "collapsed": false,
    "pycharm": {
     "name": "#%% md\n"
    }
   }
  },
  {
   "cell_type": "code",
   "execution_count": 1,
   "outputs": [],
   "source": [
    "from __init__ import *\n",
    "from dataloader import *\n",
    "from model import *\n",
    "from utilis import *\n",
    "from inference import *"
   ],
   "metadata": {
    "collapsed": false,
    "pycharm": {
     "name": "#%%\n"
    }
   }
  },
  {
   "cell_type": "code",
   "execution_count": null,
   "outputs": [
    {
     "name": "stderr",
     "output_type": "stream",
     "text": [
      "INFO Using device: cuda. ]\n",
      "INFO ========================= Model Inference =========================]\n",
      "INFO ------------------ model_fold_0_9_0.524.pth testing ----------------]\n"
     ]
    }
   ],
   "source": [
    "%run main.py -s ./configs/CNN20D3C.yaml -i"
   ],
   "metadata": {
    "collapsed": false,
    "pycharm": {
     "name": "#%%\n"
    }
   }
  }
 ],
 "metadata": {
  "kernelspec": {
   "display_name": "Python 3",
   "language": "python",
   "name": "python3"
  },
  "language_info": {
   "codemirror_mode": {
    "name": "ipython",
    "version": 2
   },
   "file_extension": ".py",
   "mimetype": "text/x-python",
   "name": "python",
   "nbconvert_exporter": "python",
   "pygments_lexer": "ipython2",
   "version": "2.7.6"
  }
 },
 "nbformat": 4,
 "nbformat_minor": 0
}